{
    "nbformat_minor": 1, 
    "cells": [
        {
            "source": "# Segmenting and Clustering Neighborhoods in Toronto", 
            "cell_type": "markdown", 
            "metadata": {}
        }, 
        {
            "source": "### 1. Scrape the wikipedia page containing the postal codes of Toronto to obtain the data on boroughs and neighborhoods. Transform the data into pandas dataframe.", 
            "cell_type": "markdown", 
            "metadata": {}
        }, 
        {
            "source": "For web scraping we'll be using BeautifulSoup package.", 
            "cell_type": "markdown", 
            "metadata": {}
        }, 
        {
            "execution_count": 1, 
            "cell_type": "code", 
            "metadata": {}, 
            "outputs": [], 
            "source": "from bs4 import BeautifulSoup\nimport requests\nimport pandas as pd"
        }, 
        {
            "source": "Get the page and pass it to BeautifulSoup, along with the parser (we'll use lxml parser).", 
            "cell_type": "markdown", 
            "metadata": {}
        }, 
        {
            "execution_count": 2, 
            "cell_type": "code", 
            "metadata": {}, 
            "outputs": [], 
            "source": "url='https://en.wikipedia.org/wiki/List_of_postal_codes_of_Canada:_M'\nwiki_page=requests.get(url).text"
        }, 
        {
            "execution_count": 3, 
            "cell_type": "code", 
            "metadata": {}, 
            "outputs": [], 
            "source": "soup = BeautifulSoup(wiki_page, 'lxml')"
        }, 
        {
            "source": "Find the table containing the postal codes. There are several tables on this page. The one we need is of class \"wikitable sortable\".", 
            "cell_type": "markdown", 
            "metadata": {}
        }, 
        {
            "execution_count": 4, 
            "cell_type": "code", 
            "metadata": {}, 
            "outputs": [], 
            "source": "table = soup.find('table', class_=\"wikitable sortable\")"
        }, 
        {
            "source": "Get all the rows of the table. The first row is the table header, we need to skip it.", 
            "cell_type": "markdown", 
            "metadata": {}
        }, 
        {
            "execution_count": 5, 
            "cell_type": "code", 
            "metadata": {}, 
            "outputs": [
                {
                    "output_type": "stream", 
                    "name": "stdout", 
                    "text": "<tr>\n<th>Postcode</th>\n<th>Borough</th>\n<th>Neighbourhood\n</th></tr>\n"
                }
            ], 
            "source": "tr = table.find_all('tr')\nprint(tr[0])"
        }, 
        {
            "execution_count": 6, 
            "cell_type": "code", 
            "metadata": {}, 
            "outputs": [
                {
                    "output_type": "stream", 
                    "name": "stdout", 
                    "text": "<tr>\n<td>M1A</td>\n<td>Not assigned</td>\n<td>Not assigned\n</td></tr>\n"
                }
            ], 
            "source": "print(tr[1])"
        }, 
        {
            "execution_count": 7, 
            "cell_type": "code", 
            "metadata": {}, 
            "outputs": [
                {
                    "output_type": "stream", 
                    "name": "stdout", 
                    "text": "289\n"
                }
            ], 
            "source": "print(len(tr))"
        }, 
        {
            "source": "Create a pandas dataframe. Set PostalCode as index, to facilitate search and insertion.", 
            "cell_type": "markdown", 
            "metadata": {}
        }, 
        {
            "execution_count": 8, 
            "cell_type": "code", 
            "metadata": {}, 
            "outputs": [
                {
                    "execution_count": 8, 
                    "metadata": {}, 
                    "data": {
                        "text/html": "<div>\n<style scoped>\n    .dataframe tbody tr th:only-of-type {\n        vertical-align: middle;\n    }\n\n    .dataframe tbody tr th {\n        vertical-align: top;\n    }\n\n    .dataframe thead th {\n        text-align: right;\n    }\n</style>\n<table border=\"1\" class=\"dataframe\">\n  <thead>\n    <tr style=\"text-align: right;\">\n      <th></th>\n      <th>Borough</th>\n      <th>Neighborhood</th>\n    </tr>\n    <tr>\n      <th>PostalCode</th>\n      <th></th>\n      <th></th>\n    </tr>\n  </thead>\n  <tbody>\n  </tbody>\n</table>\n</div>", 
                        "text/plain": "Empty DataFrame\nColumns: [Borough, Neighborhood]\nIndex: []"
                    }, 
                    "output_type": "execute_result"
                }
            ], 
            "source": "df = pd.DataFrame(columns = ['PostalCode', 'Borough', 'Neighborhood'])\ndf.set_index('PostalCode', inplace=True)\ndf"
        }, 
        {
            "source": "The following code populates the dataframe. It iterates over the rows and extracts table data. If the borough is not assigned, it skips the row. If the borough is assigned, but the neighborhood is not assigned, it sets the neighborhood to the same value as the borough. If the postal code already exists in the table, we append the new neighborhood value to the existing neighborhood value for this code. We assume that the borough is the same for the same postal code.", 
            "cell_type": "markdown", 
            "metadata": {}
        }, 
        {
            "execution_count": 9, 
            "cell_type": "code", 
            "metadata": {}, 
            "outputs": [
                {
                    "execution_count": 9, 
                    "metadata": {}, 
                    "data": {
                        "text/html": "<div>\n<style scoped>\n    .dataframe tbody tr th:only-of-type {\n        vertical-align: middle;\n    }\n\n    .dataframe tbody tr th {\n        vertical-align: top;\n    }\n\n    .dataframe thead th {\n        text-align: right;\n    }\n</style>\n<table border=\"1\" class=\"dataframe\">\n  <thead>\n    <tr style=\"text-align: right;\">\n      <th></th>\n      <th>PostalCode</th>\n      <th>Borough</th>\n      <th>Neighborhood</th>\n    </tr>\n  </thead>\n  <tbody>\n    <tr>\n      <th>0</th>\n      <td>M3A</td>\n      <td>North York</td>\n      <td>Parkwoods</td>\n    </tr>\n    <tr>\n      <th>1</th>\n      <td>M4A</td>\n      <td>North York</td>\n      <td>Victoria Village</td>\n    </tr>\n    <tr>\n      <th>2</th>\n      <td>M5A</td>\n      <td>Downtown Toronto</td>\n      <td>Harbourfront, Regent Park</td>\n    </tr>\n    <tr>\n      <th>3</th>\n      <td>M6A</td>\n      <td>North York</td>\n      <td>Lawrence Heights, Lawrence Manor</td>\n    </tr>\n    <tr>\n      <th>4</th>\n      <td>M7A</td>\n      <td>Queen's Park</td>\n      <td>Queen's Park</td>\n    </tr>\n    <tr>\n      <th>5</th>\n      <td>M9A</td>\n      <td>Etobicoke</td>\n      <td>Islington Avenue</td>\n    </tr>\n    <tr>\n      <th>6</th>\n      <td>M1B</td>\n      <td>Scarborough</td>\n      <td>Rouge, Malvern</td>\n    </tr>\n    <tr>\n      <th>7</th>\n      <td>M3B</td>\n      <td>North York</td>\n      <td>Don Mills North</td>\n    </tr>\n    <tr>\n      <th>8</th>\n      <td>M4B</td>\n      <td>East York</td>\n      <td>Woodbine Gardens, Parkview Hill</td>\n    </tr>\n    <tr>\n      <th>9</th>\n      <td>M5B</td>\n      <td>Downtown Toronto</td>\n      <td>Ryerson, Garden District</td>\n    </tr>\n  </tbody>\n</table>\n</div>", 
                        "text/plain": "  PostalCode           Borough                      Neighborhood\n0        M3A        North York                         Parkwoods\n1        M4A        North York                  Victoria Village\n2        M5A  Downtown Toronto         Harbourfront, Regent Park\n3        M6A        North York  Lawrence Heights, Lawrence Manor\n4        M7A      Queen's Park                      Queen's Park\n5        M9A         Etobicoke                  Islington Avenue\n6        M1B       Scarborough                    Rouge, Malvern\n7        M3B        North York                   Don Mills North\n8        M4B         East York   Woodbine Gardens, Parkview Hill\n9        M5B  Downtown Toronto          Ryerson, Garden District"
                    }, 
                    "output_type": "execute_result"
                }
            ], 
            "source": "#Iterate over the rows, skipping the header\nfor i in range(1, len(tr)-1):\n    row = tr[i]\n    td = row.find_all('td')\n    code = td[0].text.strip()\n    if td[1].text.strip() == 'Not assigned':\n        continue\n    else:\n        borough = td[1].text.strip()\n       \n    if td[2].text.strip() == 'Not assigned':\n        neigh = borough\n    else:\n        neigh = td[2].text.strip()\n    \n    #Check if the row with this postal code already exists in the table.\n    if code in df.index:\n        oldNeigh = df.loc[code, 'Neighborhood']\n        neigh = oldNeigh + \", \" + neigh\n        df.loc[code, 'Neighborhood'] = neigh\n    else:\n        df.loc[code] = [borough, neigh]\n\n#reset the index, so the table is in the original form.\ndf = df.reset_index()\ndf.head(10)"
        }, 
        {
            "execution_count": 10, 
            "cell_type": "code", 
            "metadata": {}, 
            "outputs": [
                {
                    "execution_count": 10, 
                    "metadata": {}, 
                    "data": {
                        "text/plain": "(103, 3)"
                    }, 
                    "output_type": "execute_result"
                }
            ], 
            "source": "df.shape"
        }, 
        {
            "source": "## 2. Get coordinates of each neighborhood", 
            "cell_type": "markdown", 
            "metadata": {}
        }, 
        {
            "source": "#### Get the csv file that contains the coordinates of the neighborhoods:", 
            "cell_type": "markdown", 
            "metadata": {}
        }, 
        {
            "execution_count": 11, 
            "cell_type": "code", 
            "metadata": {}, 
            "outputs": [
                {
                    "output_type": "stream", 
                    "name": "stdout", 
                    "text": "--2019-04-25 04:54:50--  http://cocl.us/Geospatial_data\nResolving cocl.us (cocl.us)... 159.8.72.228\nConnecting to cocl.us (cocl.us)|159.8.72.228|:80... connected.\nHTTP request sent, awaiting response... 301 Moved Permanently\nLocation: https://cocl.us/Geospatial_data [following]\n--2019-04-25 04:54:50--  https://cocl.us/Geospatial_data\nConnecting to cocl.us (cocl.us)|159.8.72.228|:443... connected.\nHTTP request sent, awaiting response... 301 Moved Permanently\nLocation: https://ibm.box.com/shared/static/9afzr83pps4pwf2smjjcf1y5mvgb18rr.csv [following]\n--2019-04-25 04:54:51--  https://ibm.box.com/shared/static/9afzr83pps4pwf2smjjcf1y5mvgb18rr.csv\nResolving ibm.box.com (ibm.box.com)... 107.152.26.197\nConnecting to ibm.box.com (ibm.box.com)|107.152.26.197|:443... connected.\nHTTP request sent, awaiting response... 301 Moved Permanently\nLocation: /public/static/9afzr83pps4pwf2smjjcf1y5mvgb18rr.csv [following]\n--2019-04-25 04:54:51--  https://ibm.box.com/public/static/9afzr83pps4pwf2smjjcf1y5mvgb18rr.csv\nReusing existing connection to ibm.box.com:443.\nHTTP request sent, awaiting response... 301 Moved Permanently\nLocation: https://ibm.ent.box.com/public/static/9afzr83pps4pwf2smjjcf1y5mvgb18rr.csv [following]\n--2019-04-25 04:54:51--  https://ibm.ent.box.com/public/static/9afzr83pps4pwf2smjjcf1y5mvgb18rr.csv\nResolving ibm.ent.box.com (ibm.ent.box.com)... 107.152.26.211\nConnecting to ibm.ent.box.com (ibm.ent.box.com)|107.152.26.211|:443... connected.\nHTTP request sent, awaiting response... 302 Found\nLocation: https://public.boxcloud.com/d/1/b1!rl9mS777kRfVcViKVeC_nkxEiLAp8uu1_o3sYd3qt-YEK0AFlNOUhBY3uKYFpOecNmayyv_YF8LOIKrHCe5gNo_Pn1H5uUbtf8vJyuZPCfGkVoE5dk0aUhFWehRLvnIuTUGHhC2pIOQ4PtTHNoJtGFBO_flrHD4-GsUEgKGdfv0mEjSWdXtLs7VcSCHeW-PEHNrsz_JuN71Vv84MVoRyA9QKsM7lRgeeMW07OtjwXpUae4sFj7VWG-rC3Qmapi-EOfEbz3kvhjHMjKBI-y8ivtmQfrrehSBR2k7B-iDzMp8m38im_A5QXB_ACDFrRXmUTNB2Hs-yTkMv7OtA9Dhc5cvCQJB7l_BH-WXjbyXyYLUJHf-2RSVp-i5Dtfu-6wUBDohu2ne1Rj79WhOtzHtJQ_OxBEeWjt0I8JNk8IGy7Ng0FgL0E8wrV6NAI8tsjnjToZW3mUEmwKKqQz-NutNi1WqHC-9E0D84otCIcjJDxWIibQlzNd7PlQTwmEuUs0Rz8A319CxX2F1ixdxAjsNFGyfy3wnW6TwwXbzfi6VYFDSwEcEpUkSuNNh1qo8rbuDTp7_xX_XhIFjFa-vgdMZGap2l0jpSkMcvKIYPoZNr-CaDAdAMB1VotE-S1EsVuN0weRC4yUVrqwrXo96Njw5LapgaEK1vmU-bcou4rD2BejI19gq7NKE9EaOK1Yv9AtrCTzwPfZBYGV-a_JO-wLhPJPF0s_WeRvkbVUW2TYoPHDJndalgZU5dnxUNSVO3MwFC6xk98oywt3blX-Q8ti4EIR2_ZtGrAWnOZNWgURb4hm1SfWELS5PB5lQT93_HRqFkIGyvvm9hqH_lPPsZHspQatZXNbFMVkb_s0RViCtphWdQHL3X8lrQMOQ0dpgAj9MD_yyI7BjGlOuRExrE_rTYPLZh-ko-LMAyWzExhEirsLcAwMI3Cw576jtMilIudeDfM-QLEoInDOF4tvh57bJ-LdoIiOncwwRUSRRUx-GHCnUeRl1sYB8G0Jx3HgAbr-VDNoKm6vUh_j2zg8Qfg92WmeIn5S7nI1mjggvb172wT9_Um-rZSwqjchYRge-Q66s1bAdIIxMKgFAVR3ufIL8BzXstBVYmREQP0ul7Ute00abqnv8TVyl0qipKpRb94UFW0dblCyyA8CTy_HgevxVUtXnem0XBVabe6JJymvSb-RRxgIXfgly5RgV9-MbjIlrZZbO6KZP05q4HnnsBquOvK2RYtjtZQRMtREgsbc7U0DgO51NeeLukWopA9ChPBBzo9fOhPKrTIiiYdE9-PMV9LwT9RWzu0-OZXsHAOG_dQOU_zisVsVqF-CS_NTtbxaEjj8cwB6IOcy39tKnco0cHZEfY77Qazk8z-hXL6JCEgRAMlodF5hccVg../download [following]\n--2019-04-25 04:54:52--  https://public.boxcloud.com/d/1/b1!rl9mS777kRfVcViKVeC_nkxEiLAp8uu1_o3sYd3qt-YEK0AFlNOUhBY3uKYFpOecNmayyv_YF8LOIKrHCe5gNo_Pn1H5uUbtf8vJyuZPCfGkVoE5dk0aUhFWehRLvnIuTUGHhC2pIOQ4PtTHNoJtGFBO_flrHD4-GsUEgKGdfv0mEjSWdXtLs7VcSCHeW-PEHNrsz_JuN71Vv84MVoRyA9QKsM7lRgeeMW07OtjwXpUae4sFj7VWG-rC3Qmapi-EOfEbz3kvhjHMjKBI-y8ivtmQfrrehSBR2k7B-iDzMp8m38im_A5QXB_ACDFrRXmUTNB2Hs-yTkMv7OtA9Dhc5cvCQJB7l_BH-WXjbyXyYLUJHf-2RSVp-i5Dtfu-6wUBDohu2ne1Rj79WhOtzHtJQ_OxBEeWjt0I8JNk8IGy7Ng0FgL0E8wrV6NAI8tsjnjToZW3mUEmwKKqQz-NutNi1WqHC-9E0D84otCIcjJDxWIibQlzNd7PlQTwmEuUs0Rz8A319CxX2F1ixdxAjsNFGyfy3wnW6TwwXbzfi6VYFDSwEcEpUkSuNNh1qo8rbuDTp7_xX_XhIFjFa-vgdMZGap2l0jpSkMcvKIYPoZNr-CaDAdAMB1VotE-S1EsVuN0weRC4yUVrqwrXo96Njw5LapgaEK1vmU-bcou4rD2BejI19gq7NKE9EaOK1Yv9AtrCTzwPfZBYGV-a_JO-wLhPJPF0s_WeRvkbVUW2TYoPHDJndalgZU5dnxUNSVO3MwFC6xk98oywt3blX-Q8ti4EIR2_ZtGrAWnOZNWgURb4hm1SfWELS5PB5lQT93_HRqFkIGyvvm9hqH_lPPsZHspQatZXNbFMVkb_s0RViCtphWdQHL3X8lrQMOQ0dpgAj9MD_yyI7BjGlOuRExrE_rTYPLZh-ko-LMAyWzExhEirsLcAwMI3Cw576jtMilIudeDfM-QLEoInDOF4tvh57bJ-LdoIiOncwwRUSRRUx-GHCnUeRl1sYB8G0Jx3HgAbr-VDNoKm6vUh_j2zg8Qfg92WmeIn5S7nI1mjggvb172wT9_Um-rZSwqjchYRge-Q66s1bAdIIxMKgFAVR3ufIL8BzXstBVYmREQP0ul7Ute00abqnv8TVyl0qipKpRb94UFW0dblCyyA8CTy_HgevxVUtXnem0XBVabe6JJymvSb-RRxgIXfgly5RgV9-MbjIlrZZbO6KZP05q4HnnsBquOvK2RYtjtZQRMtREgsbc7U0DgO51NeeLukWopA9ChPBBzo9fOhPKrTIiiYdE9-PMV9LwT9RWzu0-OZXsHAOG_dQOU_zisVsVqF-CS_NTtbxaEjj8cwB6IOcy39tKnco0cHZEfY77Qazk8z-hXL6JCEgRAMlodF5hccVg../download\nResolving public.boxcloud.com (public.boxcloud.com)... 107.152.25.200, 107.152.24.200\nConnecting to public.boxcloud.com (public.boxcloud.com)|107.152.25.200|:443... connected.\nHTTP request sent, awaiting response... 200 OK\nLength: 2891 (2.8K) [text/csv]\nSaving to: \u2018Geospatial_Coordinates.csv\u2019\n\n100%[======================================>] 2,891       --.-K/s   in 0s      \n\n2019-04-25 04:54:52 (488 MB/s) - \u2018Geospatial_Coordinates.csv\u2019 saved [2891/2891]\n\n"
                }
            ], 
            "source": "!wget -O Geospatial_Coordinates.csv http://cocl.us/Geospatial_data"
        }, 
        {
            "source": "#### Read the csv file into pandas dataframe:", 
            "cell_type": "markdown", 
            "metadata": {}
        }, 
        {
            "execution_count": 12, 
            "cell_type": "code", 
            "metadata": {
                "scrolled": true
            }, 
            "outputs": [
                {
                    "execution_count": 12, 
                    "metadata": {}, 
                    "data": {
                        "text/html": "<div>\n<style scoped>\n    .dataframe tbody tr th:only-of-type {\n        vertical-align: middle;\n    }\n\n    .dataframe tbody tr th {\n        vertical-align: top;\n    }\n\n    .dataframe thead th {\n        text-align: right;\n    }\n</style>\n<table border=\"1\" class=\"dataframe\">\n  <thead>\n    <tr style=\"text-align: right;\">\n      <th></th>\n      <th>Postal Code</th>\n      <th>Latitude</th>\n      <th>Longitude</th>\n    </tr>\n  </thead>\n  <tbody>\n    <tr>\n      <th>0</th>\n      <td>M1B</td>\n      <td>43.806686</td>\n      <td>-79.194353</td>\n    </tr>\n    <tr>\n      <th>1</th>\n      <td>M1C</td>\n      <td>43.784535</td>\n      <td>-79.160497</td>\n    </tr>\n    <tr>\n      <th>2</th>\n      <td>M1E</td>\n      <td>43.763573</td>\n      <td>-79.188711</td>\n    </tr>\n    <tr>\n      <th>3</th>\n      <td>M1G</td>\n      <td>43.770992</td>\n      <td>-79.216917</td>\n    </tr>\n    <tr>\n      <th>4</th>\n      <td>M1H</td>\n      <td>43.773136</td>\n      <td>-79.239476</td>\n    </tr>\n  </tbody>\n</table>\n</div>", 
                        "text/plain": "  Postal Code   Latitude  Longitude\n0         M1B  43.806686 -79.194353\n1         M1C  43.784535 -79.160497\n2         M1E  43.763573 -79.188711\n3         M1G  43.770992 -79.216917\n4         M1H  43.773136 -79.239476"
                    }, 
                    "output_type": "execute_result"
                }
            ], 
            "source": "df_coord = pd.read_csv(\"Geospatial_Coordinates.csv\")\ndf_coord.head()"
        }, 
        {
            "execution_count": 13, 
            "cell_type": "code", 
            "metadata": {}, 
            "outputs": [
                {
                    "execution_count": 13, 
                    "metadata": {}, 
                    "data": {
                        "text/plain": "(103, 3)"
                    }, 
                    "output_type": "execute_result"
                }
            ], 
            "source": "df_coord.shape"
        }, 
        {
            "source": "#### Rename the column so that the column name is consistent between the two dataframes. Then merge the tables on the PostalCode.", 
            "cell_type": "markdown", 
            "metadata": {}
        }, 
        {
            "execution_count": 14, 
            "cell_type": "code", 
            "metadata": {}, 
            "outputs": [
                {
                    "execution_count": 14, 
                    "metadata": {}, 
                    "data": {
                        "text/html": "<div>\n<style scoped>\n    .dataframe tbody tr th:only-of-type {\n        vertical-align: middle;\n    }\n\n    .dataframe tbody tr th {\n        vertical-align: top;\n    }\n\n    .dataframe thead th {\n        text-align: right;\n    }\n</style>\n<table border=\"1\" class=\"dataframe\">\n  <thead>\n    <tr style=\"text-align: right;\">\n      <th></th>\n      <th>PostalCode</th>\n      <th>Latitude</th>\n      <th>Longitude</th>\n    </tr>\n  </thead>\n  <tbody>\n    <tr>\n      <th>0</th>\n      <td>M1B</td>\n      <td>43.806686</td>\n      <td>-79.194353</td>\n    </tr>\n    <tr>\n      <th>1</th>\n      <td>M1C</td>\n      <td>43.784535</td>\n      <td>-79.160497</td>\n    </tr>\n    <tr>\n      <th>2</th>\n      <td>M1E</td>\n      <td>43.763573</td>\n      <td>-79.188711</td>\n    </tr>\n    <tr>\n      <th>3</th>\n      <td>M1G</td>\n      <td>43.770992</td>\n      <td>-79.216917</td>\n    </tr>\n    <tr>\n      <th>4</th>\n      <td>M1H</td>\n      <td>43.773136</td>\n      <td>-79.239476</td>\n    </tr>\n  </tbody>\n</table>\n</div>", 
                        "text/plain": "  PostalCode   Latitude  Longitude\n0        M1B  43.806686 -79.194353\n1        M1C  43.784535 -79.160497\n2        M1E  43.763573 -79.188711\n3        M1G  43.770992 -79.216917\n4        M1H  43.773136 -79.239476"
                    }, 
                    "output_type": "execute_result"
                }
            ], 
            "source": "df_coord.rename(columns={'Postal Code': 'PostalCode'}, inplace=True)\ndf_coord.head()"
        }, 
        {
            "execution_count": 15, 
            "cell_type": "code", 
            "metadata": {}, 
            "outputs": [
                {
                    "execution_count": 15, 
                    "metadata": {}, 
                    "data": {
                        "text/html": "<div>\n<style scoped>\n    .dataframe tbody tr th:only-of-type {\n        vertical-align: middle;\n    }\n\n    .dataframe tbody tr th {\n        vertical-align: top;\n    }\n\n    .dataframe thead th {\n        text-align: right;\n    }\n</style>\n<table border=\"1\" class=\"dataframe\">\n  <thead>\n    <tr style=\"text-align: right;\">\n      <th></th>\n      <th>PostalCode</th>\n      <th>Borough</th>\n      <th>Neighborhood</th>\n      <th>Latitude</th>\n      <th>Longitude</th>\n    </tr>\n  </thead>\n  <tbody>\n    <tr>\n      <th>0</th>\n      <td>M3A</td>\n      <td>North York</td>\n      <td>Parkwoods</td>\n      <td>43.753259</td>\n      <td>-79.329656</td>\n    </tr>\n    <tr>\n      <th>1</th>\n      <td>M4A</td>\n      <td>North York</td>\n      <td>Victoria Village</td>\n      <td>43.725882</td>\n      <td>-79.315572</td>\n    </tr>\n    <tr>\n      <th>2</th>\n      <td>M5A</td>\n      <td>Downtown Toronto</td>\n      <td>Harbourfront, Regent Park</td>\n      <td>43.654260</td>\n      <td>-79.360636</td>\n    </tr>\n    <tr>\n      <th>3</th>\n      <td>M6A</td>\n      <td>North York</td>\n      <td>Lawrence Heights, Lawrence Manor</td>\n      <td>43.718518</td>\n      <td>-79.464763</td>\n    </tr>\n    <tr>\n      <th>4</th>\n      <td>M7A</td>\n      <td>Queen's Park</td>\n      <td>Queen's Park</td>\n      <td>43.662301</td>\n      <td>-79.389494</td>\n    </tr>\n    <tr>\n      <th>5</th>\n      <td>M9A</td>\n      <td>Etobicoke</td>\n      <td>Islington Avenue</td>\n      <td>43.667856</td>\n      <td>-79.532242</td>\n    </tr>\n    <tr>\n      <th>6</th>\n      <td>M1B</td>\n      <td>Scarborough</td>\n      <td>Rouge, Malvern</td>\n      <td>43.806686</td>\n      <td>-79.194353</td>\n    </tr>\n    <tr>\n      <th>7</th>\n      <td>M3B</td>\n      <td>North York</td>\n      <td>Don Mills North</td>\n      <td>43.745906</td>\n      <td>-79.352188</td>\n    </tr>\n    <tr>\n      <th>8</th>\n      <td>M4B</td>\n      <td>East York</td>\n      <td>Woodbine Gardens, Parkview Hill</td>\n      <td>43.706397</td>\n      <td>-79.309937</td>\n    </tr>\n    <tr>\n      <th>9</th>\n      <td>M5B</td>\n      <td>Downtown Toronto</td>\n      <td>Ryerson, Garden District</td>\n      <td>43.657162</td>\n      <td>-79.378937</td>\n    </tr>\n    <tr>\n      <th>10</th>\n      <td>M6B</td>\n      <td>North York</td>\n      <td>Glencairn</td>\n      <td>43.709577</td>\n      <td>-79.445073</td>\n    </tr>\n    <tr>\n      <th>11</th>\n      <td>M9B</td>\n      <td>Etobicoke</td>\n      <td>Cloverdale, Islington, Martin Grove, Princess ...</td>\n      <td>43.650943</td>\n      <td>-79.554724</td>\n    </tr>\n    <tr>\n      <th>12</th>\n      <td>M1C</td>\n      <td>Scarborough</td>\n      <td>Highland Creek, Rouge Hill, Port Union</td>\n      <td>43.784535</td>\n      <td>-79.160497</td>\n    </tr>\n    <tr>\n      <th>13</th>\n      <td>M3C</td>\n      <td>North York</td>\n      <td>Flemingdon Park, Don Mills South</td>\n      <td>43.725900</td>\n      <td>-79.340923</td>\n    </tr>\n    <tr>\n      <th>14</th>\n      <td>M4C</td>\n      <td>East York</td>\n      <td>Woodbine Heights</td>\n      <td>43.695344</td>\n      <td>-79.318389</td>\n    </tr>\n  </tbody>\n</table>\n</div>", 
                        "text/plain": "   PostalCode           Borough  \\\n0         M3A        North York   \n1         M4A        North York   \n2         M5A  Downtown Toronto   \n3         M6A        North York   \n4         M7A      Queen's Park   \n5         M9A         Etobicoke   \n6         M1B       Scarborough   \n7         M3B        North York   \n8         M4B         East York   \n9         M5B  Downtown Toronto   \n10        M6B        North York   \n11        M9B         Etobicoke   \n12        M1C       Scarborough   \n13        M3C        North York   \n14        M4C         East York   \n\n                                         Neighborhood   Latitude  Longitude  \n0                                           Parkwoods  43.753259 -79.329656  \n1                                    Victoria Village  43.725882 -79.315572  \n2                           Harbourfront, Regent Park  43.654260 -79.360636  \n3                    Lawrence Heights, Lawrence Manor  43.718518 -79.464763  \n4                                        Queen's Park  43.662301 -79.389494  \n5                                    Islington Avenue  43.667856 -79.532242  \n6                                      Rouge, Malvern  43.806686 -79.194353  \n7                                     Don Mills North  43.745906 -79.352188  \n8                     Woodbine Gardens, Parkview Hill  43.706397 -79.309937  \n9                            Ryerson, Garden District  43.657162 -79.378937  \n10                                          Glencairn  43.709577 -79.445073  \n11  Cloverdale, Islington, Martin Grove, Princess ...  43.650943 -79.554724  \n12             Highland Creek, Rouge Hill, Port Union  43.784535 -79.160497  \n13                   Flemingdon Park, Don Mills South  43.725900 -79.340923  \n14                                   Woodbine Heights  43.695344 -79.318389  "
                    }, 
                    "output_type": "execute_result"
                }
            ], 
            "source": "df_toronto = pd.merge(df, df_coord, on='PostalCode')\ndf_toronto.head(15)"
        }, 
        {
            "execution_count": 16, 
            "cell_type": "code", 
            "metadata": {}, 
            "outputs": [
                {
                    "execution_count": 16, 
                    "metadata": {}, 
                    "data": {
                        "text/plain": "(103, 5)"
                    }, 
                    "output_type": "execute_result"
                }
            ], 
            "source": "df_toronto.shape"
        }, 
        {
            "execution_count": null, 
            "cell_type": "code", 
            "metadata": {}, 
            "outputs": [], 
            "source": ""
        }
    ], 
    "metadata": {
        "kernelspec": {
            "display_name": "Python 3.5", 
            "name": "python3", 
            "language": "python"
        }, 
        "language_info": {
            "mimetype": "text/x-python", 
            "nbconvert_exporter": "python", 
            "version": "3.5.5", 
            "name": "python", 
            "file_extension": ".py", 
            "pygments_lexer": "ipython3", 
            "codemirror_mode": {
                "version": 3, 
                "name": "ipython"
            }
        }
    }, 
    "nbformat": 4
}